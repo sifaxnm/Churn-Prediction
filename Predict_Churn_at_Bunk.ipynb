{
  "nbformat": 4,
  "nbformat_minor": 0,
  "metadata": {
    "colab": {
      "provenance": [],
      "collapsed_sections": [
        "c8btWGGxzMmu",
        "cmhHu7I5zlj5",
        "DqQrNan2EAt0",
        "YA1nZJ1Q3tn9",
        "zmnHn2qS6izB",
        "2D5yDIEs6izC",
        "EAwgTxqk6izG",
        "bk3esddA6izJ",
        "tsYZfzAl6izL",
        "ipqdC_DV6izO"
      ]
    },
    "kernelspec": {
      "name": "python3",
      "display_name": "Python 3"
    },
    "language_info": {
      "name": "python"
    }
  },
  "cells": [
    {
      "cell_type": "markdown",
      "source": [
        "In this notebook, we'll build a machine learning model to predict churn at bunk, we'll use a dataset from kaggle (https://www.kaggle.com/datasets/barelydedicated/bank-customer-churn-modeling).\n",
        "We'll follow theses steps :\n",
        "\n",
        "\n",
        "*   Import Dependencies\n",
        "*   Collect and clean data\n",
        "*   Choose the best model for this problem\n",
        "*   Train the model \n",
        "*   Evaluate the model\n",
        "*   Improve the results by balancing the data\n",
        "\n",
        "\n",
        "\n",
        "\n",
        "\n"
      ],
      "metadata": {
        "id": "LuMd0_5LErCf"
      }
    },
    {
      "cell_type": "markdown",
      "source": [
        "# Import dependencies\n",
        "We'll import: \n",
        "\n",
        "*   numpy, pandas and matplotlib for data collection and data preprocessing.\n",
        "*   MinMaxScaler to scale our data\n",
        "*   train_test_split to split our data into train and test dataset, we'll fit the ML model with train data and evaluate it with the test data\n",
        "*   Different ML algorithms to compare and choose the one with best results\n",
        "*   classification_report to evaluate the ML algorithms\n",
        "\n",
        "\n",
        "\n",
        "\n"
      ],
      "metadata": {
        "id": "c8btWGGxzMmu"
      }
    },
    {
      "cell_type": "code",
      "execution_count": 2,
      "metadata": {
        "id": "ShFMcwIwym9q"
      },
      "outputs": [],
      "source": [
        "import numpy as np\n",
        "import pandas as pd \n",
        "import matplotlib.pyplot as plt \n",
        "from sklearn.preprocessing import MinMaxScaler\n",
        "from sklearn.model_selection import train_test_split\n",
        "from sklearn.linear_model import LogisticRegression\n",
        "from sklearn.tree import DecisionTreeClassifier\n",
        "from sklearn.neighbors import KNeighborsClassifier\n",
        "from sklearn.discriminant_analysis import LinearDiscriminantAnalysis\n",
        "from sklearn.naive_bayes import GaussianNB\n",
        "from sklearn.svm import SVC\n",
        "from sklearn.metrics import classification_report"
      ]
    },
    {
      "cell_type": "markdown",
      "source": [
        "# Data collection and data cleaning\n",
        "During this step, we'll read the data and preprocess it."
      ],
      "metadata": {
        "id": "cmhHu7I5zlj5"
      }
    },
    {
      "cell_type": "code",
      "source": [
        "# Reading the data\n",
        "path_to_data = '/content/Churn_Modelling.csv'\n",
        "data = pd.read_csv(path_to_data)\n",
        "\n",
        "# Shape of data\n",
        "nrows = data.shape[0]\n",
        "ncols = data.shape[1]\n",
        "print(f'We\\'ve {nrows} rows and {ncols} columns')"
      ],
      "metadata": {
        "id": "pVBBFEOIzoV7",
        "colab": {
          "base_uri": "https://localhost:8080/"
        },
        "outputId": "280590bd-b8f4-4c3b-8aba-fdd0474252b9"
      },
      "execution_count": 5,
      "outputs": [
        {
          "output_type": "stream",
          "name": "stdout",
          "text": [
            "We've 10000 rows and 14 columns\n"
          ]
        }
      ]
    },
    {
      "cell_type": "code",
      "source": [
        "# First 5 rows\n",
        "data.head()"
      ],
      "metadata": {
        "colab": {
          "base_uri": "https://localhost:8080/",
          "height": 206
        },
        "id": "FSRTOBgNzvEU",
        "outputId": "d8467b1c-8223-4138-9cd3-c6c439398f36"
      },
      "execution_count": 6,
      "outputs": [
        {
          "output_type": "execute_result",
          "data": {
            "text/plain": [
              "   RowNumber  CustomerId   Surname  CreditScore Geography  Gender  Age  \\\n",
              "0          1    15634602  Hargrave          619    France  Female   42   \n",
              "1          2    15647311      Hill          608     Spain  Female   41   \n",
              "2          3    15619304      Onio          502    France  Female   42   \n",
              "3          4    15701354      Boni          699    France  Female   39   \n",
              "4          5    15737888  Mitchell          850     Spain  Female   43   \n",
              "\n",
              "   Tenure    Balance  NumOfProducts  HasCrCard  IsActiveMember  \\\n",
              "0       2       0.00              1          1               1   \n",
              "1       1   83807.86              1          0               1   \n",
              "2       8  159660.80              3          1               0   \n",
              "3       1       0.00              2          0               0   \n",
              "4       2  125510.82              1          1               1   \n",
              "\n",
              "   EstimatedSalary  Exited  \n",
              "0        101348.88       1  \n",
              "1        112542.58       0  \n",
              "2        113931.57       1  \n",
              "3         93826.63       0  \n",
              "4         79084.10       0  "
            ],
            "text/html": [
              "\n",
              "  <div id=\"df-7282f030-7bb4-45ec-b95b-d22b8793e358\">\n",
              "    <div class=\"colab-df-container\">\n",
              "      <div>\n",
              "<style scoped>\n",
              "    .dataframe tbody tr th:only-of-type {\n",
              "        vertical-align: middle;\n",
              "    }\n",
              "\n",
              "    .dataframe tbody tr th {\n",
              "        vertical-align: top;\n",
              "    }\n",
              "\n",
              "    .dataframe thead th {\n",
              "        text-align: right;\n",
              "    }\n",
              "</style>\n",
              "<table border=\"1\" class=\"dataframe\">\n",
              "  <thead>\n",
              "    <tr style=\"text-align: right;\">\n",
              "      <th></th>\n",
              "      <th>RowNumber</th>\n",
              "      <th>CustomerId</th>\n",
              "      <th>Surname</th>\n",
              "      <th>CreditScore</th>\n",
              "      <th>Geography</th>\n",
              "      <th>Gender</th>\n",
              "      <th>Age</th>\n",
              "      <th>Tenure</th>\n",
              "      <th>Balance</th>\n",
              "      <th>NumOfProducts</th>\n",
              "      <th>HasCrCard</th>\n",
              "      <th>IsActiveMember</th>\n",
              "      <th>EstimatedSalary</th>\n",
              "      <th>Exited</th>\n",
              "    </tr>\n",
              "  </thead>\n",
              "  <tbody>\n",
              "    <tr>\n",
              "      <th>0</th>\n",
              "      <td>1</td>\n",
              "      <td>15634602</td>\n",
              "      <td>Hargrave</td>\n",
              "      <td>619</td>\n",
              "      <td>France</td>\n",
              "      <td>Female</td>\n",
              "      <td>42</td>\n",
              "      <td>2</td>\n",
              "      <td>0.00</td>\n",
              "      <td>1</td>\n",
              "      <td>1</td>\n",
              "      <td>1</td>\n",
              "      <td>101348.88</td>\n",
              "      <td>1</td>\n",
              "    </tr>\n",
              "    <tr>\n",
              "      <th>1</th>\n",
              "      <td>2</td>\n",
              "      <td>15647311</td>\n",
              "      <td>Hill</td>\n",
              "      <td>608</td>\n",
              "      <td>Spain</td>\n",
              "      <td>Female</td>\n",
              "      <td>41</td>\n",
              "      <td>1</td>\n",
              "      <td>83807.86</td>\n",
              "      <td>1</td>\n",
              "      <td>0</td>\n",
              "      <td>1</td>\n",
              "      <td>112542.58</td>\n",
              "      <td>0</td>\n",
              "    </tr>\n",
              "    <tr>\n",
              "      <th>2</th>\n",
              "      <td>3</td>\n",
              "      <td>15619304</td>\n",
              "      <td>Onio</td>\n",
              "      <td>502</td>\n",
              "      <td>France</td>\n",
              "      <td>Female</td>\n",
              "      <td>42</td>\n",
              "      <td>8</td>\n",
              "      <td>159660.80</td>\n",
              "      <td>3</td>\n",
              "      <td>1</td>\n",
              "      <td>0</td>\n",
              "      <td>113931.57</td>\n",
              "      <td>1</td>\n",
              "    </tr>\n",
              "    <tr>\n",
              "      <th>3</th>\n",
              "      <td>4</td>\n",
              "      <td>15701354</td>\n",
              "      <td>Boni</td>\n",
              "      <td>699</td>\n",
              "      <td>France</td>\n",
              "      <td>Female</td>\n",
              "      <td>39</td>\n",
              "      <td>1</td>\n",
              "      <td>0.00</td>\n",
              "      <td>2</td>\n",
              "      <td>0</td>\n",
              "      <td>0</td>\n",
              "      <td>93826.63</td>\n",
              "      <td>0</td>\n",
              "    </tr>\n",
              "    <tr>\n",
              "      <th>4</th>\n",
              "      <td>5</td>\n",
              "      <td>15737888</td>\n",
              "      <td>Mitchell</td>\n",
              "      <td>850</td>\n",
              "      <td>Spain</td>\n",
              "      <td>Female</td>\n",
              "      <td>43</td>\n",
              "      <td>2</td>\n",
              "      <td>125510.82</td>\n",
              "      <td>1</td>\n",
              "      <td>1</td>\n",
              "      <td>1</td>\n",
              "      <td>79084.10</td>\n",
              "      <td>0</td>\n",
              "    </tr>\n",
              "  </tbody>\n",
              "</table>\n",
              "</div>\n",
              "      <button class=\"colab-df-convert\" onclick=\"convertToInteractive('df-7282f030-7bb4-45ec-b95b-d22b8793e358')\"\n",
              "              title=\"Convert this dataframe to an interactive table.\"\n",
              "              style=\"display:none;\">\n",
              "        \n",
              "  <svg xmlns=\"http://www.w3.org/2000/svg\" height=\"24px\"viewBox=\"0 0 24 24\"\n",
              "       width=\"24px\">\n",
              "    <path d=\"M0 0h24v24H0V0z\" fill=\"none\"/>\n",
              "    <path d=\"M18.56 5.44l.94 2.06.94-2.06 2.06-.94-2.06-.94-.94-2.06-.94 2.06-2.06.94zm-11 1L8.5 8.5l.94-2.06 2.06-.94-2.06-.94L8.5 2.5l-.94 2.06-2.06.94zm10 10l.94 2.06.94-2.06 2.06-.94-2.06-.94-.94-2.06-.94 2.06-2.06.94z\"/><path d=\"M17.41 7.96l-1.37-1.37c-.4-.4-.92-.59-1.43-.59-.52 0-1.04.2-1.43.59L10.3 9.45l-7.72 7.72c-.78.78-.78 2.05 0 2.83L4 21.41c.39.39.9.59 1.41.59.51 0 1.02-.2 1.41-.59l7.78-7.78 2.81-2.81c.8-.78.8-2.07 0-2.86zM5.41 20L4 18.59l7.72-7.72 1.47 1.35L5.41 20z\"/>\n",
              "  </svg>\n",
              "      </button>\n",
              "      \n",
              "  <style>\n",
              "    .colab-df-container {\n",
              "      display:flex;\n",
              "      flex-wrap:wrap;\n",
              "      gap: 12px;\n",
              "    }\n",
              "\n",
              "    .colab-df-convert {\n",
              "      background-color: #E8F0FE;\n",
              "      border: none;\n",
              "      border-radius: 50%;\n",
              "      cursor: pointer;\n",
              "      display: none;\n",
              "      fill: #1967D2;\n",
              "      height: 32px;\n",
              "      padding: 0 0 0 0;\n",
              "      width: 32px;\n",
              "    }\n",
              "\n",
              "    .colab-df-convert:hover {\n",
              "      background-color: #E2EBFA;\n",
              "      box-shadow: 0px 1px 2px rgba(60, 64, 67, 0.3), 0px 1px 3px 1px rgba(60, 64, 67, 0.15);\n",
              "      fill: #174EA6;\n",
              "    }\n",
              "\n",
              "    [theme=dark] .colab-df-convert {\n",
              "      background-color: #3B4455;\n",
              "      fill: #D2E3FC;\n",
              "    }\n",
              "\n",
              "    [theme=dark] .colab-df-convert:hover {\n",
              "      background-color: #434B5C;\n",
              "      box-shadow: 0px 1px 3px 1px rgba(0, 0, 0, 0.15);\n",
              "      filter: drop-shadow(0px 1px 2px rgba(0, 0, 0, 0.3));\n",
              "      fill: #FFFFFF;\n",
              "    }\n",
              "  </style>\n",
              "\n",
              "      <script>\n",
              "        const buttonEl =\n",
              "          document.querySelector('#df-7282f030-7bb4-45ec-b95b-d22b8793e358 button.colab-df-convert');\n",
              "        buttonEl.style.display =\n",
              "          google.colab.kernel.accessAllowed ? 'block' : 'none';\n",
              "\n",
              "        async function convertToInteractive(key) {\n",
              "          const element = document.querySelector('#df-7282f030-7bb4-45ec-b95b-d22b8793e358');\n",
              "          const dataTable =\n",
              "            await google.colab.kernel.invokeFunction('convertToInteractive',\n",
              "                                                     [key], {});\n",
              "          if (!dataTable) return;\n",
              "\n",
              "          const docLinkHtml = 'Like what you see? Visit the ' +\n",
              "            '<a target=\"_blank\" href=https://colab.research.google.com/notebooks/data_table.ipynb>data table notebook</a>'\n",
              "            + ' to learn more about interactive tables.';\n",
              "          element.innerHTML = '';\n",
              "          dataTable['output_type'] = 'display_data';\n",
              "          await google.colab.output.renderOutput(dataTable, element);\n",
              "          const docLink = document.createElement('div');\n",
              "          docLink.innerHTML = docLinkHtml;\n",
              "          element.appendChild(docLink);\n",
              "        }\n",
              "      </script>\n",
              "    </div>\n",
              "  </div>\n",
              "  "
            ]
          },
          "metadata": {},
          "execution_count": 6
        }
      ]
    },
    {
      "cell_type": "code",
      "source": [
        "# data columns\n",
        "data.columns"
      ],
      "metadata": {
        "colab": {
          "base_uri": "https://localhost:8080/"
        },
        "id": "e9YdsCc3zxvy",
        "outputId": "3caab889-ba59-49b4-a753-1b4c93bf0e3c"
      },
      "execution_count": 7,
      "outputs": [
        {
          "output_type": "execute_result",
          "data": {
            "text/plain": [
              "Index(['RowNumber', 'CustomerId', 'Surname', 'CreditScore', 'Geography',\n",
              "       'Gender', 'Age', 'Tenure', 'Balance', 'NumOfProducts', 'HasCrCard',\n",
              "       'IsActiveMember', 'EstimatedSalary', 'Exited'],\n",
              "      dtype='object')"
            ]
          },
          "metadata": {},
          "execution_count": 7
        }
      ]
    },
    {
      "cell_type": "code",
      "source": [
        "# drop unnecessary columns for our prediction model\n",
        "data.drop(columns=['RowNumber', 'CustomerId', 'Surname'], inplace=True)"
      ],
      "metadata": {
        "id": "WqiOJCNk1446"
      },
      "execution_count": 8,
      "outputs": []
    },
    {
      "cell_type": "code",
      "source": [
        "# print first 5 rows after dropping unnecessary columns\n",
        "data.head()"
      ],
      "metadata": {
        "colab": {
          "base_uri": "https://localhost:8080/",
          "height": 206
        },
        "id": "KzFeMiAt2VGe",
        "outputId": "e679b8a7-7e3e-4fd8-b053-b656ec2817fb"
      },
      "execution_count": 9,
      "outputs": [
        {
          "output_type": "execute_result",
          "data": {
            "text/plain": [
              "   CreditScore Geography  Gender  Age  Tenure    Balance  NumOfProducts  \\\n",
              "0          619    France  Female   42       2       0.00              1   \n",
              "1          608     Spain  Female   41       1   83807.86              1   \n",
              "2          502    France  Female   42       8  159660.80              3   \n",
              "3          699    France  Female   39       1       0.00              2   \n",
              "4          850     Spain  Female   43       2  125510.82              1   \n",
              "\n",
              "   HasCrCard  IsActiveMember  EstimatedSalary  Exited  \n",
              "0          1               1        101348.88       1  \n",
              "1          0               1        112542.58       0  \n",
              "2          1               0        113931.57       1  \n",
              "3          0               0         93826.63       0  \n",
              "4          1               1         79084.10       0  "
            ],
            "text/html": [
              "\n",
              "  <div id=\"df-429e867d-8661-4978-8c14-3347e4e2e190\">\n",
              "    <div class=\"colab-df-container\">\n",
              "      <div>\n",
              "<style scoped>\n",
              "    .dataframe tbody tr th:only-of-type {\n",
              "        vertical-align: middle;\n",
              "    }\n",
              "\n",
              "    .dataframe tbody tr th {\n",
              "        vertical-align: top;\n",
              "    }\n",
              "\n",
              "    .dataframe thead th {\n",
              "        text-align: right;\n",
              "    }\n",
              "</style>\n",
              "<table border=\"1\" class=\"dataframe\">\n",
              "  <thead>\n",
              "    <tr style=\"text-align: right;\">\n",
              "      <th></th>\n",
              "      <th>CreditScore</th>\n",
              "      <th>Geography</th>\n",
              "      <th>Gender</th>\n",
              "      <th>Age</th>\n",
              "      <th>Tenure</th>\n",
              "      <th>Balance</th>\n",
              "      <th>NumOfProducts</th>\n",
              "      <th>HasCrCard</th>\n",
              "      <th>IsActiveMember</th>\n",
              "      <th>EstimatedSalary</th>\n",
              "      <th>Exited</th>\n",
              "    </tr>\n",
              "  </thead>\n",
              "  <tbody>\n",
              "    <tr>\n",
              "      <th>0</th>\n",
              "      <td>619</td>\n",
              "      <td>France</td>\n",
              "      <td>Female</td>\n",
              "      <td>42</td>\n",
              "      <td>2</td>\n",
              "      <td>0.00</td>\n",
              "      <td>1</td>\n",
              "      <td>1</td>\n",
              "      <td>1</td>\n",
              "      <td>101348.88</td>\n",
              "      <td>1</td>\n",
              "    </tr>\n",
              "    <tr>\n",
              "      <th>1</th>\n",
              "      <td>608</td>\n",
              "      <td>Spain</td>\n",
              "      <td>Female</td>\n",
              "      <td>41</td>\n",
              "      <td>1</td>\n",
              "      <td>83807.86</td>\n",
              "      <td>1</td>\n",
              "      <td>0</td>\n",
              "      <td>1</td>\n",
              "      <td>112542.58</td>\n",
              "      <td>0</td>\n",
              "    </tr>\n",
              "    <tr>\n",
              "      <th>2</th>\n",
              "      <td>502</td>\n",
              "      <td>France</td>\n",
              "      <td>Female</td>\n",
              "      <td>42</td>\n",
              "      <td>8</td>\n",
              "      <td>159660.80</td>\n",
              "      <td>3</td>\n",
              "      <td>1</td>\n",
              "      <td>0</td>\n",
              "      <td>113931.57</td>\n",
              "      <td>1</td>\n",
              "    </tr>\n",
              "    <tr>\n",
              "      <th>3</th>\n",
              "      <td>699</td>\n",
              "      <td>France</td>\n",
              "      <td>Female</td>\n",
              "      <td>39</td>\n",
              "      <td>1</td>\n",
              "      <td>0.00</td>\n",
              "      <td>2</td>\n",
              "      <td>0</td>\n",
              "      <td>0</td>\n",
              "      <td>93826.63</td>\n",
              "      <td>0</td>\n",
              "    </tr>\n",
              "    <tr>\n",
              "      <th>4</th>\n",
              "      <td>850</td>\n",
              "      <td>Spain</td>\n",
              "      <td>Female</td>\n",
              "      <td>43</td>\n",
              "      <td>2</td>\n",
              "      <td>125510.82</td>\n",
              "      <td>1</td>\n",
              "      <td>1</td>\n",
              "      <td>1</td>\n",
              "      <td>79084.10</td>\n",
              "      <td>0</td>\n",
              "    </tr>\n",
              "  </tbody>\n",
              "</table>\n",
              "</div>\n",
              "      <button class=\"colab-df-convert\" onclick=\"convertToInteractive('df-429e867d-8661-4978-8c14-3347e4e2e190')\"\n",
              "              title=\"Convert this dataframe to an interactive table.\"\n",
              "              style=\"display:none;\">\n",
              "        \n",
              "  <svg xmlns=\"http://www.w3.org/2000/svg\" height=\"24px\"viewBox=\"0 0 24 24\"\n",
              "       width=\"24px\">\n",
              "    <path d=\"M0 0h24v24H0V0z\" fill=\"none\"/>\n",
              "    <path d=\"M18.56 5.44l.94 2.06.94-2.06 2.06-.94-2.06-.94-.94-2.06-.94 2.06-2.06.94zm-11 1L8.5 8.5l.94-2.06 2.06-.94-2.06-.94L8.5 2.5l-.94 2.06-2.06.94zm10 10l.94 2.06.94-2.06 2.06-.94-2.06-.94-.94-2.06-.94 2.06-2.06.94z\"/><path d=\"M17.41 7.96l-1.37-1.37c-.4-.4-.92-.59-1.43-.59-.52 0-1.04.2-1.43.59L10.3 9.45l-7.72 7.72c-.78.78-.78 2.05 0 2.83L4 21.41c.39.39.9.59 1.41.59.51 0 1.02-.2 1.41-.59l7.78-7.78 2.81-2.81c.8-.78.8-2.07 0-2.86zM5.41 20L4 18.59l7.72-7.72 1.47 1.35L5.41 20z\"/>\n",
              "  </svg>\n",
              "      </button>\n",
              "      \n",
              "  <style>\n",
              "    .colab-df-container {\n",
              "      display:flex;\n",
              "      flex-wrap:wrap;\n",
              "      gap: 12px;\n",
              "    }\n",
              "\n",
              "    .colab-df-convert {\n",
              "      background-color: #E8F0FE;\n",
              "      border: none;\n",
              "      border-radius: 50%;\n",
              "      cursor: pointer;\n",
              "      display: none;\n",
              "      fill: #1967D2;\n",
              "      height: 32px;\n",
              "      padding: 0 0 0 0;\n",
              "      width: 32px;\n",
              "    }\n",
              "\n",
              "    .colab-df-convert:hover {\n",
              "      background-color: #E2EBFA;\n",
              "      box-shadow: 0px 1px 2px rgba(60, 64, 67, 0.3), 0px 1px 3px 1px rgba(60, 64, 67, 0.15);\n",
              "      fill: #174EA6;\n",
              "    }\n",
              "\n",
              "    [theme=dark] .colab-df-convert {\n",
              "      background-color: #3B4455;\n",
              "      fill: #D2E3FC;\n",
              "    }\n",
              "\n",
              "    [theme=dark] .colab-df-convert:hover {\n",
              "      background-color: #434B5C;\n",
              "      box-shadow: 0px 1px 3px 1px rgba(0, 0, 0, 0.15);\n",
              "      filter: drop-shadow(0px 1px 2px rgba(0, 0, 0, 0.3));\n",
              "      fill: #FFFFFF;\n",
              "    }\n",
              "  </style>\n",
              "\n",
              "      <script>\n",
              "        const buttonEl =\n",
              "          document.querySelector('#df-429e867d-8661-4978-8c14-3347e4e2e190 button.colab-df-convert');\n",
              "        buttonEl.style.display =\n",
              "          google.colab.kernel.accessAllowed ? 'block' : 'none';\n",
              "\n",
              "        async function convertToInteractive(key) {\n",
              "          const element = document.querySelector('#df-429e867d-8661-4978-8c14-3347e4e2e190');\n",
              "          const dataTable =\n",
              "            await google.colab.kernel.invokeFunction('convertToInteractive',\n",
              "                                                     [key], {});\n",
              "          if (!dataTable) return;\n",
              "\n",
              "          const docLinkHtml = 'Like what you see? Visit the ' +\n",
              "            '<a target=\"_blank\" href=https://colab.research.google.com/notebooks/data_table.ipynb>data table notebook</a>'\n",
              "            + ' to learn more about interactive tables.';\n",
              "          element.innerHTML = '';\n",
              "          dataTable['output_type'] = 'display_data';\n",
              "          await google.colab.output.renderOutput(dataTable, element);\n",
              "          const docLink = document.createElement('div');\n",
              "          docLink.innerHTML = docLinkHtml;\n",
              "          element.appendChild(docLink);\n",
              "        }\n",
              "      </script>\n",
              "    </div>\n",
              "  </div>\n",
              "  "
            ]
          },
          "metadata": {},
          "execution_count": 9
        }
      ]
    },
    {
      "cell_type": "code",
      "source": [
        "# check if there is null values\n",
        "data.isnull().sum()"
      ],
      "metadata": {
        "colab": {
          "base_uri": "https://localhost:8080/"
        },
        "id": "Yth3ArhN2S4H",
        "outputId": "b875486d-1162-42fc-9b04-a92beca41e73"
      },
      "execution_count": 10,
      "outputs": [
        {
          "output_type": "execute_result",
          "data": {
            "text/plain": [
              "CreditScore        0\n",
              "Geography          0\n",
              "Gender             0\n",
              "Age                0\n",
              "Tenure             0\n",
              "Balance            0\n",
              "NumOfProducts      0\n",
              "HasCrCard          0\n",
              "IsActiveMember     0\n",
              "EstimatedSalary    0\n",
              "Exited             0\n",
              "dtype: int64"
            ]
          },
          "metadata": {},
          "execution_count": 10
        }
      ]
    },
    {
      "cell_type": "code",
      "source": [
        "# Analyse the data\n",
        "data.describe()"
      ],
      "metadata": {
        "colab": {
          "base_uri": "https://localhost:8080/",
          "height": 300
        },
        "id": "S_sFRtvB2hJd",
        "outputId": "cc56baa4-7caf-4f70-f77b-58f71d5fc8cb"
      },
      "execution_count": 11,
      "outputs": [
        {
          "output_type": "execute_result",
          "data": {
            "text/plain": [
              "        CreditScore           Age        Tenure        Balance  NumOfProducts  \\\n",
              "count  10000.000000  10000.000000  10000.000000   10000.000000   10000.000000   \n",
              "mean     650.528800     38.921800      5.012800   76485.889288       1.530200   \n",
              "std       96.653299     10.487806      2.892174   62397.405202       0.581654   \n",
              "min      350.000000     18.000000      0.000000       0.000000       1.000000   \n",
              "25%      584.000000     32.000000      3.000000       0.000000       1.000000   \n",
              "50%      652.000000     37.000000      5.000000   97198.540000       1.000000   \n",
              "75%      718.000000     44.000000      7.000000  127644.240000       2.000000   \n",
              "max      850.000000     92.000000     10.000000  250898.090000       4.000000   \n",
              "\n",
              "         HasCrCard  IsActiveMember  EstimatedSalary        Exited  \n",
              "count  10000.00000    10000.000000     10000.000000  10000.000000  \n",
              "mean       0.70550        0.515100    100090.239881      0.203700  \n",
              "std        0.45584        0.499797     57510.492818      0.402769  \n",
              "min        0.00000        0.000000        11.580000      0.000000  \n",
              "25%        0.00000        0.000000     51002.110000      0.000000  \n",
              "50%        1.00000        1.000000    100193.915000      0.000000  \n",
              "75%        1.00000        1.000000    149388.247500      0.000000  \n",
              "max        1.00000        1.000000    199992.480000      1.000000  "
            ],
            "text/html": [
              "\n",
              "  <div id=\"df-d1ba8e71-fd4b-4db2-bb0a-f2b8feb3b199\">\n",
              "    <div class=\"colab-df-container\">\n",
              "      <div>\n",
              "<style scoped>\n",
              "    .dataframe tbody tr th:only-of-type {\n",
              "        vertical-align: middle;\n",
              "    }\n",
              "\n",
              "    .dataframe tbody tr th {\n",
              "        vertical-align: top;\n",
              "    }\n",
              "\n",
              "    .dataframe thead th {\n",
              "        text-align: right;\n",
              "    }\n",
              "</style>\n",
              "<table border=\"1\" class=\"dataframe\">\n",
              "  <thead>\n",
              "    <tr style=\"text-align: right;\">\n",
              "      <th></th>\n",
              "      <th>CreditScore</th>\n",
              "      <th>Age</th>\n",
              "      <th>Tenure</th>\n",
              "      <th>Balance</th>\n",
              "      <th>NumOfProducts</th>\n",
              "      <th>HasCrCard</th>\n",
              "      <th>IsActiveMember</th>\n",
              "      <th>EstimatedSalary</th>\n",
              "      <th>Exited</th>\n",
              "    </tr>\n",
              "  </thead>\n",
              "  <tbody>\n",
              "    <tr>\n",
              "      <th>count</th>\n",
              "      <td>10000.000000</td>\n",
              "      <td>10000.000000</td>\n",
              "      <td>10000.000000</td>\n",
              "      <td>10000.000000</td>\n",
              "      <td>10000.000000</td>\n",
              "      <td>10000.00000</td>\n",
              "      <td>10000.000000</td>\n",
              "      <td>10000.000000</td>\n",
              "      <td>10000.000000</td>\n",
              "    </tr>\n",
              "    <tr>\n",
              "      <th>mean</th>\n",
              "      <td>650.528800</td>\n",
              "      <td>38.921800</td>\n",
              "      <td>5.012800</td>\n",
              "      <td>76485.889288</td>\n",
              "      <td>1.530200</td>\n",
              "      <td>0.70550</td>\n",
              "      <td>0.515100</td>\n",
              "      <td>100090.239881</td>\n",
              "      <td>0.203700</td>\n",
              "    </tr>\n",
              "    <tr>\n",
              "      <th>std</th>\n",
              "      <td>96.653299</td>\n",
              "      <td>10.487806</td>\n",
              "      <td>2.892174</td>\n",
              "      <td>62397.405202</td>\n",
              "      <td>0.581654</td>\n",
              "      <td>0.45584</td>\n",
              "      <td>0.499797</td>\n",
              "      <td>57510.492818</td>\n",
              "      <td>0.402769</td>\n",
              "    </tr>\n",
              "    <tr>\n",
              "      <th>min</th>\n",
              "      <td>350.000000</td>\n",
              "      <td>18.000000</td>\n",
              "      <td>0.000000</td>\n",
              "      <td>0.000000</td>\n",
              "      <td>1.000000</td>\n",
              "      <td>0.00000</td>\n",
              "      <td>0.000000</td>\n",
              "      <td>11.580000</td>\n",
              "      <td>0.000000</td>\n",
              "    </tr>\n",
              "    <tr>\n",
              "      <th>25%</th>\n",
              "      <td>584.000000</td>\n",
              "      <td>32.000000</td>\n",
              "      <td>3.000000</td>\n",
              "      <td>0.000000</td>\n",
              "      <td>1.000000</td>\n",
              "      <td>0.00000</td>\n",
              "      <td>0.000000</td>\n",
              "      <td>51002.110000</td>\n",
              "      <td>0.000000</td>\n",
              "    </tr>\n",
              "    <tr>\n",
              "      <th>50%</th>\n",
              "      <td>652.000000</td>\n",
              "      <td>37.000000</td>\n",
              "      <td>5.000000</td>\n",
              "      <td>97198.540000</td>\n",
              "      <td>1.000000</td>\n",
              "      <td>1.00000</td>\n",
              "      <td>1.000000</td>\n",
              "      <td>100193.915000</td>\n",
              "      <td>0.000000</td>\n",
              "    </tr>\n",
              "    <tr>\n",
              "      <th>75%</th>\n",
              "      <td>718.000000</td>\n",
              "      <td>44.000000</td>\n",
              "      <td>7.000000</td>\n",
              "      <td>127644.240000</td>\n",
              "      <td>2.000000</td>\n",
              "      <td>1.00000</td>\n",
              "      <td>1.000000</td>\n",
              "      <td>149388.247500</td>\n",
              "      <td>0.000000</td>\n",
              "    </tr>\n",
              "    <tr>\n",
              "      <th>max</th>\n",
              "      <td>850.000000</td>\n",
              "      <td>92.000000</td>\n",
              "      <td>10.000000</td>\n",
              "      <td>250898.090000</td>\n",
              "      <td>4.000000</td>\n",
              "      <td>1.00000</td>\n",
              "      <td>1.000000</td>\n",
              "      <td>199992.480000</td>\n",
              "      <td>1.000000</td>\n",
              "    </tr>\n",
              "  </tbody>\n",
              "</table>\n",
              "</div>\n",
              "      <button class=\"colab-df-convert\" onclick=\"convertToInteractive('df-d1ba8e71-fd4b-4db2-bb0a-f2b8feb3b199')\"\n",
              "              title=\"Convert this dataframe to an interactive table.\"\n",
              "              style=\"display:none;\">\n",
              "        \n",
              "  <svg xmlns=\"http://www.w3.org/2000/svg\" height=\"24px\"viewBox=\"0 0 24 24\"\n",
              "       width=\"24px\">\n",
              "    <path d=\"M0 0h24v24H0V0z\" fill=\"none\"/>\n",
              "    <path d=\"M18.56 5.44l.94 2.06.94-2.06 2.06-.94-2.06-.94-.94-2.06-.94 2.06-2.06.94zm-11 1L8.5 8.5l.94-2.06 2.06-.94-2.06-.94L8.5 2.5l-.94 2.06-2.06.94zm10 10l.94 2.06.94-2.06 2.06-.94-2.06-.94-.94-2.06-.94 2.06-2.06.94z\"/><path d=\"M17.41 7.96l-1.37-1.37c-.4-.4-.92-.59-1.43-.59-.52 0-1.04.2-1.43.59L10.3 9.45l-7.72 7.72c-.78.78-.78 2.05 0 2.83L4 21.41c.39.39.9.59 1.41.59.51 0 1.02-.2 1.41-.59l7.78-7.78 2.81-2.81c.8-.78.8-2.07 0-2.86zM5.41 20L4 18.59l7.72-7.72 1.47 1.35L5.41 20z\"/>\n",
              "  </svg>\n",
              "      </button>\n",
              "      \n",
              "  <style>\n",
              "    .colab-df-container {\n",
              "      display:flex;\n",
              "      flex-wrap:wrap;\n",
              "      gap: 12px;\n",
              "    }\n",
              "\n",
              "    .colab-df-convert {\n",
              "      background-color: #E8F0FE;\n",
              "      border: none;\n",
              "      border-radius: 50%;\n",
              "      cursor: pointer;\n",
              "      display: none;\n",
              "      fill: #1967D2;\n",
              "      height: 32px;\n",
              "      padding: 0 0 0 0;\n",
              "      width: 32px;\n",
              "    }\n",
              "\n",
              "    .colab-df-convert:hover {\n",
              "      background-color: #E2EBFA;\n",
              "      box-shadow: 0px 1px 2px rgba(60, 64, 67, 0.3), 0px 1px 3px 1px rgba(60, 64, 67, 0.15);\n",
              "      fill: #174EA6;\n",
              "    }\n",
              "\n",
              "    [theme=dark] .colab-df-convert {\n",
              "      background-color: #3B4455;\n",
              "      fill: #D2E3FC;\n",
              "    }\n",
              "\n",
              "    [theme=dark] .colab-df-convert:hover {\n",
              "      background-color: #434B5C;\n",
              "      box-shadow: 0px 1px 3px 1px rgba(0, 0, 0, 0.15);\n",
              "      filter: drop-shadow(0px 1px 2px rgba(0, 0, 0, 0.3));\n",
              "      fill: #FFFFFF;\n",
              "    }\n",
              "  </style>\n",
              "\n",
              "      <script>\n",
              "        const buttonEl =\n",
              "          document.querySelector('#df-d1ba8e71-fd4b-4db2-bb0a-f2b8feb3b199 button.colab-df-convert');\n",
              "        buttonEl.style.display =\n",
              "          google.colab.kernel.accessAllowed ? 'block' : 'none';\n",
              "\n",
              "        async function convertToInteractive(key) {\n",
              "          const element = document.querySelector('#df-d1ba8e71-fd4b-4db2-bb0a-f2b8feb3b199');\n",
              "          const dataTable =\n",
              "            await google.colab.kernel.invokeFunction('convertToInteractive',\n",
              "                                                     [key], {});\n",
              "          if (!dataTable) return;\n",
              "\n",
              "          const docLinkHtml = 'Like what you see? Visit the ' +\n",
              "            '<a target=\"_blank\" href=https://colab.research.google.com/notebooks/data_table.ipynb>data table notebook</a>'\n",
              "            + ' to learn more about interactive tables.';\n",
              "          element.innerHTML = '';\n",
              "          dataTable['output_type'] = 'display_data';\n",
              "          await google.colab.output.renderOutput(dataTable, element);\n",
              "          const docLink = document.createElement('div');\n",
              "          docLink.innerHTML = docLinkHtml;\n",
              "          element.appendChild(docLink);\n",
              "        }\n",
              "      </script>\n",
              "    </div>\n",
              "  </div>\n",
              "  "
            ]
          },
          "metadata": {},
          "execution_count": 11
        }
      ]
    },
    {
      "cell_type": "code",
      "source": [
        "# Check the columns type\n",
        "data.dtypes"
      ],
      "metadata": {
        "colab": {
          "base_uri": "https://localhost:8080/"
        },
        "id": "JmuPVwu62qjG",
        "outputId": "50cdd36c-ba20-4dde-f1b7-195c9818fc64"
      },
      "execution_count": 12,
      "outputs": [
        {
          "output_type": "execute_result",
          "data": {
            "text/plain": [
              "CreditScore          int64\n",
              "Geography           object\n",
              "Gender              object\n",
              "Age                  int64\n",
              "Tenure               int64\n",
              "Balance            float64\n",
              "NumOfProducts        int64\n",
              "HasCrCard            int64\n",
              "IsActiveMember       int64\n",
              "EstimatedSalary    float64\n",
              "Exited               int64\n",
              "dtype: object"
            ]
          },
          "metadata": {},
          "execution_count": 12
        }
      ]
    },
    {
      "cell_type": "code",
      "source": [
        "# Convert categorical columns into numerical ones \n",
        "data.Gender.unique(), data.Geography.unique()"
      ],
      "metadata": {
        "colab": {
          "base_uri": "https://localhost:8080/"
        },
        "id": "KOZ37ZPA23m7",
        "outputId": "8a113604-b415-4df4-82ee-da18bbb9a82b"
      },
      "execution_count": null,
      "outputs": [
        {
          "output_type": "execute_result",
          "data": {
            "text/plain": [
              "(array(['Female', 'Male'], dtype=object),\n",
              " array(['France', 'Spain', 'Germany'], dtype=object))"
            ]
          },
          "metadata": {},
          "execution_count": 68
        }
      ]
    },
    {
      "cell_type": "code",
      "source": [
        "# Convert Gender column to numerical column\n",
        "data.Gender.replace({'Female':0,'Male':1}, inplace=True)\n",
        "\n",
        "# One hot encoding for other categorical columns\n",
        "data = pd.get_dummies(data=data, columns=['Geography'])"
      ],
      "metadata": {
        "id": "xQKMajzW3BUA"
      },
      "execution_count": 13,
      "outputs": []
    },
    {
      "cell_type": "code",
      "source": [
        "# columns type after converting categorical columns into numerical ones \n",
        "data.dtypes"
      ],
      "metadata": {
        "colab": {
          "base_uri": "https://localhost:8080/"
        },
        "id": "q5c9NNgT3okD",
        "outputId": "42e9b816-124e-4be1-b3b2-d39a6fcb5978"
      },
      "execution_count": 14,
      "outputs": [
        {
          "output_type": "execute_result",
          "data": {
            "text/plain": [
              "CreditScore            int64\n",
              "Gender                 int64\n",
              "Age                    int64\n",
              "Tenure                 int64\n",
              "Balance              float64\n",
              "NumOfProducts          int64\n",
              "HasCrCard              int64\n",
              "IsActiveMember         int64\n",
              "EstimatedSalary      float64\n",
              "Exited                 int64\n",
              "Geography_France       uint8\n",
              "Geography_Germany      uint8\n",
              "Geography_Spain        uint8\n",
              "dtype: object"
            ]
          },
          "metadata": {},
          "execution_count": 14
        }
      ]
    },
    {
      "cell_type": "code",
      "source": [
        "# print first 5 rows after converting categorical columns into numerical ones \n",
        "data.head()"
      ],
      "metadata": {
        "colab": {
          "base_uri": "https://localhost:8080/",
          "height": 206
        },
        "id": "-UQiJKmD32zO",
        "outputId": "36bb6603-4a4f-4e8a-b133-daffd140c9c4"
      },
      "execution_count": 15,
      "outputs": [
        {
          "output_type": "execute_result",
          "data": {
            "text/plain": [
              "   CreditScore  Gender  Age  Tenure    Balance  NumOfProducts  HasCrCard  \\\n",
              "0          619       0   42       2       0.00              1          1   \n",
              "1          608       0   41       1   83807.86              1          0   \n",
              "2          502       0   42       8  159660.80              3          1   \n",
              "3          699       0   39       1       0.00              2          0   \n",
              "4          850       0   43       2  125510.82              1          1   \n",
              "\n",
              "   IsActiveMember  EstimatedSalary  Exited  Geography_France  \\\n",
              "0               1        101348.88       1                 1   \n",
              "1               1        112542.58       0                 0   \n",
              "2               0        113931.57       1                 1   \n",
              "3               0         93826.63       0                 1   \n",
              "4               1         79084.10       0                 0   \n",
              "\n",
              "   Geography_Germany  Geography_Spain  \n",
              "0                  0                0  \n",
              "1                  0                1  \n",
              "2                  0                0  \n",
              "3                  0                0  \n",
              "4                  0                1  "
            ],
            "text/html": [
              "\n",
              "  <div id=\"df-0543b038-1afe-448c-a508-4d01a0208ca2\">\n",
              "    <div class=\"colab-df-container\">\n",
              "      <div>\n",
              "<style scoped>\n",
              "    .dataframe tbody tr th:only-of-type {\n",
              "        vertical-align: middle;\n",
              "    }\n",
              "\n",
              "    .dataframe tbody tr th {\n",
              "        vertical-align: top;\n",
              "    }\n",
              "\n",
              "    .dataframe thead th {\n",
              "        text-align: right;\n",
              "    }\n",
              "</style>\n",
              "<table border=\"1\" class=\"dataframe\">\n",
              "  <thead>\n",
              "    <tr style=\"text-align: right;\">\n",
              "      <th></th>\n",
              "      <th>CreditScore</th>\n",
              "      <th>Gender</th>\n",
              "      <th>Age</th>\n",
              "      <th>Tenure</th>\n",
              "      <th>Balance</th>\n",
              "      <th>NumOfProducts</th>\n",
              "      <th>HasCrCard</th>\n",
              "      <th>IsActiveMember</th>\n",
              "      <th>EstimatedSalary</th>\n",
              "      <th>Exited</th>\n",
              "      <th>Geography_France</th>\n",
              "      <th>Geography_Germany</th>\n",
              "      <th>Geography_Spain</th>\n",
              "    </tr>\n",
              "  </thead>\n",
              "  <tbody>\n",
              "    <tr>\n",
              "      <th>0</th>\n",
              "      <td>619</td>\n",
              "      <td>0</td>\n",
              "      <td>42</td>\n",
              "      <td>2</td>\n",
              "      <td>0.00</td>\n",
              "      <td>1</td>\n",
              "      <td>1</td>\n",
              "      <td>1</td>\n",
              "      <td>101348.88</td>\n",
              "      <td>1</td>\n",
              "      <td>1</td>\n",
              "      <td>0</td>\n",
              "      <td>0</td>\n",
              "    </tr>\n",
              "    <tr>\n",
              "      <th>1</th>\n",
              "      <td>608</td>\n",
              "      <td>0</td>\n",
              "      <td>41</td>\n",
              "      <td>1</td>\n",
              "      <td>83807.86</td>\n",
              "      <td>1</td>\n",
              "      <td>0</td>\n",
              "      <td>1</td>\n",
              "      <td>112542.58</td>\n",
              "      <td>0</td>\n",
              "      <td>0</td>\n",
              "      <td>0</td>\n",
              "      <td>1</td>\n",
              "    </tr>\n",
              "    <tr>\n",
              "      <th>2</th>\n",
              "      <td>502</td>\n",
              "      <td>0</td>\n",
              "      <td>42</td>\n",
              "      <td>8</td>\n",
              "      <td>159660.80</td>\n",
              "      <td>3</td>\n",
              "      <td>1</td>\n",
              "      <td>0</td>\n",
              "      <td>113931.57</td>\n",
              "      <td>1</td>\n",
              "      <td>1</td>\n",
              "      <td>0</td>\n",
              "      <td>0</td>\n",
              "    </tr>\n",
              "    <tr>\n",
              "      <th>3</th>\n",
              "      <td>699</td>\n",
              "      <td>0</td>\n",
              "      <td>39</td>\n",
              "      <td>1</td>\n",
              "      <td>0.00</td>\n",
              "      <td>2</td>\n",
              "      <td>0</td>\n",
              "      <td>0</td>\n",
              "      <td>93826.63</td>\n",
              "      <td>0</td>\n",
              "      <td>1</td>\n",
              "      <td>0</td>\n",
              "      <td>0</td>\n",
              "    </tr>\n",
              "    <tr>\n",
              "      <th>4</th>\n",
              "      <td>850</td>\n",
              "      <td>0</td>\n",
              "      <td>43</td>\n",
              "      <td>2</td>\n",
              "      <td>125510.82</td>\n",
              "      <td>1</td>\n",
              "      <td>1</td>\n",
              "      <td>1</td>\n",
              "      <td>79084.10</td>\n",
              "      <td>0</td>\n",
              "      <td>0</td>\n",
              "      <td>0</td>\n",
              "      <td>1</td>\n",
              "    </tr>\n",
              "  </tbody>\n",
              "</table>\n",
              "</div>\n",
              "      <button class=\"colab-df-convert\" onclick=\"convertToInteractive('df-0543b038-1afe-448c-a508-4d01a0208ca2')\"\n",
              "              title=\"Convert this dataframe to an interactive table.\"\n",
              "              style=\"display:none;\">\n",
              "        \n",
              "  <svg xmlns=\"http://www.w3.org/2000/svg\" height=\"24px\"viewBox=\"0 0 24 24\"\n",
              "       width=\"24px\">\n",
              "    <path d=\"M0 0h24v24H0V0z\" fill=\"none\"/>\n",
              "    <path d=\"M18.56 5.44l.94 2.06.94-2.06 2.06-.94-2.06-.94-.94-2.06-.94 2.06-2.06.94zm-11 1L8.5 8.5l.94-2.06 2.06-.94-2.06-.94L8.5 2.5l-.94 2.06-2.06.94zm10 10l.94 2.06.94-2.06 2.06-.94-2.06-.94-.94-2.06-.94 2.06-2.06.94z\"/><path d=\"M17.41 7.96l-1.37-1.37c-.4-.4-.92-.59-1.43-.59-.52 0-1.04.2-1.43.59L10.3 9.45l-7.72 7.72c-.78.78-.78 2.05 0 2.83L4 21.41c.39.39.9.59 1.41.59.51 0 1.02-.2 1.41-.59l7.78-7.78 2.81-2.81c.8-.78.8-2.07 0-2.86zM5.41 20L4 18.59l7.72-7.72 1.47 1.35L5.41 20z\"/>\n",
              "  </svg>\n",
              "      </button>\n",
              "      \n",
              "  <style>\n",
              "    .colab-df-container {\n",
              "      display:flex;\n",
              "      flex-wrap:wrap;\n",
              "      gap: 12px;\n",
              "    }\n",
              "\n",
              "    .colab-df-convert {\n",
              "      background-color: #E8F0FE;\n",
              "      border: none;\n",
              "      border-radius: 50%;\n",
              "      cursor: pointer;\n",
              "      display: none;\n",
              "      fill: #1967D2;\n",
              "      height: 32px;\n",
              "      padding: 0 0 0 0;\n",
              "      width: 32px;\n",
              "    }\n",
              "\n",
              "    .colab-df-convert:hover {\n",
              "      background-color: #E2EBFA;\n",
              "      box-shadow: 0px 1px 2px rgba(60, 64, 67, 0.3), 0px 1px 3px 1px rgba(60, 64, 67, 0.15);\n",
              "      fill: #174EA6;\n",
              "    }\n",
              "\n",
              "    [theme=dark] .colab-df-convert {\n",
              "      background-color: #3B4455;\n",
              "      fill: #D2E3FC;\n",
              "    }\n",
              "\n",
              "    [theme=dark] .colab-df-convert:hover {\n",
              "      background-color: #434B5C;\n",
              "      box-shadow: 0px 1px 3px 1px rgba(0, 0, 0, 0.15);\n",
              "      filter: drop-shadow(0px 1px 2px rgba(0, 0, 0, 0.3));\n",
              "      fill: #FFFFFF;\n",
              "    }\n",
              "  </style>\n",
              "\n",
              "      <script>\n",
              "        const buttonEl =\n",
              "          document.querySelector('#df-0543b038-1afe-448c-a508-4d01a0208ca2 button.colab-df-convert');\n",
              "        buttonEl.style.display =\n",
              "          google.colab.kernel.accessAllowed ? 'block' : 'none';\n",
              "\n",
              "        async function convertToInteractive(key) {\n",
              "          const element = document.querySelector('#df-0543b038-1afe-448c-a508-4d01a0208ca2');\n",
              "          const dataTable =\n",
              "            await google.colab.kernel.invokeFunction('convertToInteractive',\n",
              "                                                     [key], {});\n",
              "          if (!dataTable) return;\n",
              "\n",
              "          const docLinkHtml = 'Like what you see? Visit the ' +\n",
              "            '<a target=\"_blank\" href=https://colab.research.google.com/notebooks/data_table.ipynb>data table notebook</a>'\n",
              "            + ' to learn more about interactive tables.';\n",
              "          element.innerHTML = '';\n",
              "          dataTable['output_type'] = 'display_data';\n",
              "          await google.colab.output.renderOutput(dataTable, element);\n",
              "          const docLink = document.createElement('div');\n",
              "          docLink.innerHTML = docLinkHtml;\n",
              "          element.appendChild(docLink);\n",
              "        }\n",
              "      </script>\n",
              "    </div>\n",
              "  </div>\n",
              "  "
            ]
          },
          "metadata": {},
          "execution_count": 15
        }
      ]
    },
    {
      "cell_type": "code",
      "source": [
        "# check how much the dataset is umbalanced\n",
        "data.Exited.value_counts()\n",
        "ratio = data.Exited.value_counts()[0]/data.Exited.value_counts()[1]\n",
        "print(f'Not exited customers are {\"{:.2f}\".format(ratio)} more numerous than exited customers')"
      ],
      "metadata": {
        "colab": {
          "base_uri": "https://localhost:8080/"
        },
        "id": "JnSbVvqJ4bJ8",
        "outputId": "3868fb23-e762-4848-c878-d264195dc880"
      },
      "execution_count": 18,
      "outputs": [
        {
          "output_type": "stream",
          "name": "stdout",
          "text": [
            "Not exited customers are 3.91 more numerous than exited customers\n"
          ]
        }
      ]
    },
    {
      "cell_type": "code",
      "source": [
        "# Impact of Tenure in Customer Exiting the bunk\n",
        "tenure_exited_customers = data.Tenure[data.Exited == 1]\n",
        "tenure_notexited_customers = data.Tenure[data.Exited == 0]\n",
        "\n",
        "plt.xlabel('Tenure')\n",
        "plt.ylabel('Number of Customers')\n",
        "\n",
        "plt.hist([tenure_exited_customers, tenure_notexited_customers], rwidth=1, color=['green','red'], label=['Exited', 'No Exited']);\n",
        "plt.legend();"
      ],
      "metadata": {
        "colab": {
          "base_uri": "https://localhost:8080/",
          "height": 374
        },
        "id": "2rQP637m4A-T",
        "outputId": "1772cd65-93d7-463e-ee64-cd42eea0373a"
      },
      "execution_count": 19,
      "outputs": [
        {
          "output_type": "stream",
          "name": "stderr",
          "text": [
            "/usr/local/lib/python3.7/dist-packages/numpy/core/fromnumeric.py:3208: VisibleDeprecationWarning: Creating an ndarray from ragged nested sequences (which is a list-or-tuple of lists-or-tuples-or ndarrays with different lengths or shapes) is deprecated. If you meant to do this, you must specify 'dtype=object' when creating the ndarray.\n",
            "  return asarray(a).size\n",
            "/usr/local/lib/python3.7/dist-packages/matplotlib/cbook/__init__.py:1376: VisibleDeprecationWarning: Creating an ndarray from ragged nested sequences (which is a list-or-tuple of lists-or-tuples-or ndarrays with different lengths or shapes) is deprecated. If you meant to do this, you must specify 'dtype=object' when creating the ndarray.\n",
            "  X = np.atleast_1d(X.T if isinstance(X, np.ndarray) else np.asarray(X))\n"
          ]
        },
        {
          "output_type": "display_data",
          "data": {
            "text/plain": [
              "<Figure size 432x288 with 1 Axes>"
            ],
            "image/png": "[encoded data removed]"
          },
          "metadata": {
            "needs_background": "light"
          }
        }
      ]
    },
    {
      "cell_type": "code",
      "source": [
        "# Impact of EstimatedSalary in Customer Exiting the bunk\n",
        "EstimatedSalary_exited_customers = data.EstimatedSalary[data.Exited == 1]\n",
        "EstimatedSalary_notexited_customers = data.EstimatedSalary[data.Exited == 0]\n",
        "\n",
        "plt.xlabel('EstimatedSalary')\n",
        "plt.ylabel('Number of Customers')\n",
        "\n",
        "plt.hist([EstimatedSalary_exited_customers, EstimatedSalary_notexited_customers], rwidth=1, color=['green','red'], label=['Exited', 'No Exited']);\n",
        "plt.legend();"
      ],
      "metadata": {
        "colab": {
          "base_uri": "https://localhost:8080/",
          "height": 279
        },
        "id": "CPhk1nYC4U8D",
        "outputId": "075776ff-4f31-4b79-9090-f39e2d453dd5"
      },
      "execution_count": null,
      "outputs": [
        {
          "output_type": "display_data",
          "data": {
            "text/plain": [
              "<Figure size 432x288 with 1 Axes>"
            ],
            "image/png": "[encoded data removed]"
          },
          "metadata": {
            "needs_background": "light"
          }
        }
      ]
    },
    {
      "cell_type": "code",
      "source": [
        "# # Impact of Balance in Customer Exiting the bunk\n",
        "Balance_exited_customers = data.Balance[data.Exited == 1]\n",
        "Balance_nonexited_customers = data.Balance[data.Exited == 0]\n",
        "\n",
        "plt.xlabel('Balance')\n",
        "plt.ylabel('Number of Customers')\n",
        "\n",
        "plt.hist([Balance_exited_customers, Balance_nonexited_customers], rwidth=1, color=['green','red'], label=['Exited', 'No Exited']);\n",
        "plt.legend();"
      ],
      "metadata": {
        "colab": {
          "base_uri": "https://localhost:8080/",
          "height": 279
        },
        "id": "N5fT4Jee_jkw",
        "outputId": "ffc50999-d444-4ac0-b843-eaf726d873e2"
      },
      "execution_count": null,
      "outputs": [
        {
          "output_type": "display_data",
          "data": {
            "text/plain": [
              "<Figure size 432x288 with 1 Axes>"
            ],
            "image/png": "[encoded data removed]"
          },
          "metadata": {
            "needs_background": "light"
          }
        }
      ]
    },
    {
      "cell_type": "code",
      "source": [
        "# Scaling of the data \n",
        "columns_to_scale = ['Balance','EstimatedSalary']\n",
        "scaler = MinMaxScaler()\n",
        "data[columns_to_scale] = scaler.fit_transform(data[columns_to_scale])"
      ],
      "metadata": {
        "id": "Wzofn7CR_o49"
      },
      "execution_count": 20,
      "outputs": []
    },
    {
      "cell_type": "code",
      "source": [
        "# Print the unique values for each column\n",
        "for column in data.columns:\n",
        "  print(f'{column} : {data[column].unique()}')"
      ],
      "metadata": {
        "colab": {
          "base_uri": "https://localhost:8080/"
        },
        "id": "t8KdYHYuBzUI",
        "outputId": "be328a07-b655-42a2-8751-8a132e2a0922"
      },
      "execution_count": 21,
      "outputs": [
        {
          "output_type": "stream",
          "name": "stdout",
          "text": [
            "CreditScore : [619 608 502 699 850 645 822 376 501 684 528 497 476 549 635 616 653 587\n",
            " 726 732 636 510 669 846 577 756 571 574 411 591 533 553 520 722 475 490\n",
            " 804 582 472 465 556 834 660 776 829 637 550 698 585 788 655 601 656 725\n",
            " 511 614 742 687 555 603 751 581 735 661 675 738 813 657 604 519 664 678\n",
            " 757 416 665 777 543 506 493 652 750 729 646 647 808 524 769 730 515 773\n",
            " 814 710 413 623 670 622 785 605 479 685 538 562 721 628 668 828 674 625\n",
            " 432 770 758 795 686 789 589 461 584 579 663 682 793 691 485 650 754 535\n",
            " 716 539 706 586 631 717 800 683 704 615 667 484 480 578 512 606 597 778\n",
            " 514 525 715 580 807 521 759 516 711 618 643 671 689 620 676 572 695 592\n",
            " 567 694 547 594 673 610 767 763 712 703 662 659 523 772 545 634 739 771\n",
            " 681 544 696 766 727 693 557 531 498 651 791 733 811 707 714 782 775 799\n",
            " 602 744 588 747 583 627 731 629 438 642 806 474 559 429 680 749 734 644\n",
            " 626 649 805 718 840 630 654 762 568 613 522 737 648 443 640 540 460 593\n",
            " 801 611 802 745 483 690 492 709 705 560 752 701 537 487 596 702 486 724\n",
            " 548 464 790 534 748 494 590 468 509 818 816 536 753 774 621 569 658 798\n",
            " 641 542 692 639 765 570 638 599 632 779 527 564 833 504 842 508 417 598\n",
            " 741 607 761 848 546 439 755 760 526 713 700 666 566 495 688 612 477 427\n",
            " 839 819 720 459 503 624 529 563 482 796 445 746 786 554 672 787 499 844\n",
            " 450 815 838 803 736 633 600 679 517 792 743 488 421 841 708 507 505 456\n",
            " 435 561 518 565 728 784 552 609 764 697 723 551 444 719 496 541 830 812\n",
            " 677 420 595 617 809 500 826 434 513 478 797 363 399 463 780 452 575 837\n",
            " 794 824 428 823 781 849 489 431 457 768 831 359 820 573 576 558 817 449\n",
            " 440 415 821 530 350 446 425 740 481 783 358 845 451 458 469 423 404 836\n",
            " 473 835 466 491 351 827 843 365 532 414 453 471 401 810 832 470 447 422\n",
            " 825 430 436 426 408 847 418 437 410 454 407 455 462 386 405 383 395 467\n",
            " 433 442 424 448 441 367 412 382 373 419]\n",
            "Gender : [0 1]\n",
            "Age : [42 41 39 43 44 50 29 27 31 24 34 25 35 45 58 32 38 46 36 33 40 51 61 49\n",
            " 37 19 66 56 26 21 55 75 22 30 28 65 48 52 57 73 47 54 72 20 67 79 62 53\n",
            " 80 59 68 23 60 70 63 64 18 82 69 74 71 76 77 88 85 84 78 81 92 83]\n",
            "Tenure : [ 2  1  8  7  4  6  3 10  5  9  0]\n",
            "Balance : [0.         0.33403148 0.63635718 ... 0.22865702 0.29922631 0.51870777]\n",
            "NumOfProducts : [1 3 2 4]\n",
            "HasCrCard : [1 0]\n",
            "IsActiveMember : [1 0]\n",
            "EstimatedSalary : [0.50673489 0.56270874 0.56965435 ... 0.21039009 0.46442905 0.19091423]\n",
            "Exited : [1 0]\n",
            "Geography_France : [1 0]\n",
            "Geography_Germany : [0 1]\n",
            "Geography_Spain : [0 1]\n"
          ]
        }
      ]
    },
    {
      "cell_type": "code",
      "source": [
        "# Split the data into X and Y (labels) data\n",
        "X = data.drop(columns='Exited', axis=1)\n",
        "Y = data['Exited']"
      ],
      "metadata": {
        "id": "qS980AGMFUpP"
      },
      "execution_count": 22,
      "outputs": []
    },
    {
      "cell_type": "code",
      "source": [
        "# Shape of X and Y\n",
        "X.shape, Y.shape"
      ],
      "metadata": {
        "colab": {
          "base_uri": "https://localhost:8080/"
        },
        "id": "6jyPEBtnFhzn",
        "outputId": "a5b6949e-ef5c-4826-bce4-6cdd32134b57"
      },
      "execution_count": 23,
      "outputs": [
        {
          "output_type": "execute_result",
          "data": {
            "text/plain": [
              "((10000, 12), (10000,))"
            ]
          },
          "metadata": {},
          "execution_count": 23
        }
      ]
    },
    {
      "cell_type": "markdown",
      "source": [
        "# Model building\n",
        "In this step we'll test many ML algorithms on the data prepared above (knowing that the dataset is **umbalanced**) and choose the best one.\n",
        "ML algorithms to test:  \n",
        "\n",
        "*   Logistic Regression\n",
        "*   Linear Discriminant Analysis\n",
        "*   k-nearest neighbors\n",
        "*   DecisionTree\n",
        "*   Gaussian Naïve Bayes\n",
        "*   Support Vector Machine\n",
        "\n",
        "\n",
        "\n"
      ],
      "metadata": {
        "id": "DqQrNan2EAt0"
      }
    },
    {
      "cell_type": "markdown",
      "source": [
        "## What is the best model for this task ?"
      ],
      "metadata": {
        "id": "YA1nZJ1Q3tn9"
      }
    },
    {
      "cell_type": "code",
      "source": [
        "# split the data into train and test data\n",
        "x_train, x_test, y_train, y_test = train_test_split(X, Y, test_size=0.2, stratify=Y, shuffle=True, random_state=2)"
      ],
      "metadata": {
        "id": "knKq41xi4Pfa"
      },
      "execution_count": 24,
      "outputs": []
    },
    {
      "cell_type": "code",
      "source": [
        "# instantiate the ML models\n",
        "models = []\n",
        "models.append(('LR', LogisticRegression()))\n",
        "models.append(('LDA', LinearDiscriminantAnalysis()))\n",
        "models.append(('KNN', KNeighborsClassifier()))\n",
        "models.append(('CART', DecisionTreeClassifier()))\n",
        "models.append(('NB', GaussianNB()))\n",
        "models.append(('SVM', SVC()))"
      ],
      "metadata": {
        "id": "SjnKiba15fqW"
      },
      "execution_count": 25,
      "outputs": []
    },
    {
      "cell_type": "code",
      "source": [
        "# train the ML models \n",
        "for name, model in models:\n",
        "\n",
        "  # train the model \n",
        "  model.fit(x_train, y_train)\n",
        "\n",
        "  # Evaluate the model\n",
        "  y_preds = model.predict(x_test)\n",
        "  print(f'model :{model}')\n",
        "  print(\"Classification Report: \\n\", classification_report(y_test, y_preds))\n",
        "  print('-----------------------------------------------------------------------------')"
      ],
      "metadata": {
        "colab": {
          "base_uri": "https://localhost:8080/"
        },
        "id": "LylryHCB3xYU",
        "outputId": "ee2343f7-e3c8-43e3-da33-68eccf50fc21"
      },
      "execution_count": 26,
      "outputs": [
        {
          "output_type": "stream",
          "name": "stderr",
          "text": [
            "/usr/local/lib/python3.7/dist-packages/sklearn/linear_model/_logistic.py:818: ConvergenceWarning: lbfgs failed to converge (status=1):\n",
            "STOP: TOTAL NO. of ITERATIONS REACHED LIMIT.\n",
            "\n",
            "Increase the number of iterations (max_iter) or scale the data as shown in:\n",
            "    https://scikit-learn.org/stable/modules/preprocessing.html\n",
            "Please also refer to the documentation for alternative solver options:\n",
            "    https://scikit-learn.org/stable/modules/linear_model.html#logistic-regression\n",
            "  extra_warning_msg=_LOGISTIC_SOLVER_CONVERGENCE_MSG,\n"
          ]
        },
        {
          "output_type": "stream",
          "name": "stdout",
          "text": [
            "model :LogisticRegression()\n",
            "Classification Report: \n",
            "               precision    recall  f1-score   support\n",
            "\n",
            "           0       0.83      0.96      0.89      1593\n",
            "           1       0.58      0.20      0.30       407\n",
            "\n",
            "    accuracy                           0.81      2000\n",
            "   macro avg       0.70      0.58      0.59      2000\n",
            "weighted avg       0.78      0.81      0.77      2000\n",
            "\n",
            "-----------------------------------------------------------------------------\n",
            "model :LinearDiscriminantAnalysis()\n",
            "Classification Report: \n",
            "               precision    recall  f1-score   support\n",
            "\n",
            "           0       0.83      0.95      0.88      1593\n",
            "           1       0.54      0.22      0.32       407\n",
            "\n",
            "    accuracy                           0.80      2000\n",
            "   macro avg       0.68      0.59      0.60      2000\n",
            "weighted avg       0.77      0.80      0.77      2000\n",
            "\n",
            "-----------------------------------------------------------------------------\n",
            "model :KNeighborsClassifier()\n",
            "Classification Report: \n",
            "               precision    recall  f1-score   support\n",
            "\n",
            "           0       0.84      0.92      0.88      1593\n",
            "           1       0.49      0.29      0.36       407\n",
            "\n",
            "    accuracy                           0.79      2000\n",
            "   macro avg       0.66      0.61      0.62      2000\n",
            "weighted avg       0.77      0.79      0.77      2000\n",
            "\n",
            "-----------------------------------------------------------------------------\n",
            "model :DecisionTreeClassifier()\n",
            "Classification Report: \n",
            "               precision    recall  f1-score   support\n",
            "\n",
            "           0       0.87      0.87      0.87      1593\n",
            "           1       0.49      0.50      0.49       407\n",
            "\n",
            "    accuracy                           0.79      2000\n",
            "   macro avg       0.68      0.68      0.68      2000\n",
            "weighted avg       0.79      0.79      0.79      2000\n",
            "\n",
            "-----------------------------------------------------------------------------\n",
            "model :GaussianNB()\n",
            "Classification Report: \n",
            "               precision    recall  f1-score   support\n",
            "\n",
            "           0       0.85      0.93      0.89      1593\n",
            "           1       0.56      0.34      0.42       407\n",
            "\n",
            "    accuracy                           0.81      2000\n",
            "   macro avg       0.70      0.64      0.65      2000\n",
            "weighted avg       0.79      0.81      0.79      2000\n",
            "\n",
            "-----------------------------------------------------------------------------\n",
            "model :SVC()\n",
            "Classification Report: \n",
            "               precision    recall  f1-score   support\n",
            "\n",
            "           0       0.80      1.00      0.89      1593\n",
            "           1       0.00      0.00      0.00       407\n",
            "\n",
            "    accuracy                           0.80      2000\n",
            "   macro avg       0.40      0.50      0.44      2000\n",
            "weighted avg       0.63      0.80      0.71      2000\n",
            "\n",
            "-----------------------------------------------------------------------------\n"
          ]
        },
        {
          "output_type": "stream",
          "name": "stderr",
          "text": [
            "/usr/local/lib/python3.7/dist-packages/sklearn/metrics/_classification.py:1318: UndefinedMetricWarning: Precision and F-score are ill-defined and being set to 0.0 in labels with no predicted samples. Use `zero_division` parameter to control this behavior.\n",
            "  _warn_prf(average, modifier, msg_start, len(result))\n",
            "/usr/local/lib/python3.7/dist-packages/sklearn/metrics/_classification.py:1318: UndefinedMetricWarning: Precision and F-score are ill-defined and being set to 0.0 in labels with no predicted samples. Use `zero_division` parameter to control this behavior.\n",
            "  _warn_prf(average, modifier, msg_start, len(result))\n",
            "/usr/local/lib/python3.7/dist-packages/sklearn/metrics/_classification.py:1318: UndefinedMetricWarning: Precision and F-score are ill-defined and being set to 0.0 in labels with no predicted samples. Use `zero_division` parameter to control this behavior.\n",
            "  _warn_prf(average, modifier, msg_start, len(result))\n"
          ]
        }
      ]
    },
    {
      "cell_type": "markdown",
      "source": [
        "The best model for this umbalanced dataset is DecisionTree Why ? Because it gives the highest values for precision, recall and f1-score for the class 1 which is the **Exited Class** (what we are most interested in) even if there is an unbalancing in the data as we have few samples with Class 1."
      ],
      "metadata": {
        "id": "5BRGqRRcLZ5W"
      }
    },
    {
      "cell_type": "markdown",
      "source": [
        "# Improving the results of DecisionTreeClassifier by applying techniques to the umbalanced dataset"
      ],
      "metadata": {
        "id": "zmnHn2qS6izB"
      }
    },
    {
      "cell_type": "markdown",
      "source": [
        "## Undersampling"
      ],
      "metadata": {
        "id": "2D5yDIEs6izC"
      }
    },
    {
      "cell_type": "code",
      "source": [
        "# Class count\n",
        "count_class_0, count_class_1 = data.Exited.value_counts()\n",
        "count_class_0, count_class_1\n",
        "\n",
        "# Divide the data by class\n",
        "data_class_0 = data[data['Exited'] == 0]\n",
        "data_class_1 = data[data['Exited'] == 1]\n",
        "\n",
        "# Pick n samples from the Class 0 (Not Exited Customers) with n = number of samples in class 1 (Exited Customers)\n",
        "data_class_0_under = data_class_0.sample(count_class_1)\n",
        "\n",
        "# concatenate the first and second class datasets\n",
        "data_test_under = pd.concat([data_class_0_under, data_class_1], axis=0)\n",
        "\n",
        "# We can see that the data is no more umbalanced\n",
        "print(data_test_under.Exited.value_counts())"
      ],
      "metadata": {
        "colab": {
          "base_uri": "https://localhost:8080/"
        },
        "outputId": "281c228b-17a1-4d39-a4dd-bc593cddf772",
        "id": "6EmC42h96izC"
      },
      "execution_count": 27,
      "outputs": [
        {
          "output_type": "stream",
          "name": "stdout",
          "text": [
            "0    2037\n",
            "1    2037\n",
            "Name: Exited, dtype: int64\n"
          ]
        }
      ]
    },
    {
      "cell_type": "code",
      "source": [
        "# split the data into X and Y data\n",
        "X = data_test_under.drop('Exited',axis='columns')\n",
        "Y = data_test_under.Exited"
      ],
      "metadata": {
        "id": "kBoZCmGhObJk"
      },
      "execution_count": 28,
      "outputs": []
    },
    {
      "cell_type": "code",
      "source": [
        "# split the data into train and test data\n",
        "x_train, x_test, y_train, y_test = train_test_split(X, Y, test_size=0.2, stratify=Y, shuffle=True, random_state=2)\n",
        "\n",
        "# Instanciate the model\n",
        "model = DecisionTreeClassifier()\n",
        "\n",
        "# train the model\n",
        "model.fit(x_train, y_train)\n",
        "\n",
        "# Evaluate the model\n",
        "y_preds = model.predict(x_test)   \n",
        "print(\"Classification Report: \\n\", classification_report(y_test, y_preds))"
      ],
      "metadata": {
        "colab": {
          "base_uri": "https://localhost:8080/"
        },
        "id": "M9V2ColiOU2K",
        "outputId": "8a483787-6f2a-4d0a-9cbb-320e59344bbf"
      },
      "execution_count": 29,
      "outputs": [
        {
          "output_type": "stream",
          "name": "stdout",
          "text": [
            "Classification Report: \n",
            "               precision    recall  f1-score   support\n",
            "\n",
            "           0       0.70      0.70      0.70       408\n",
            "           1       0.70      0.70      0.70       407\n",
            "\n",
            "    accuracy                           0.70       815\n",
            "   macro avg       0.70      0.70      0.70       815\n",
            "weighted avg       0.70      0.70      0.70       815\n",
            "\n"
          ]
        }
      ]
    },
    {
      "cell_type": "markdown",
      "source": [
        "## Oversampling"
      ],
      "metadata": {
        "id": "bk3esddA6izJ"
      }
    },
    {
      "cell_type": "code",
      "source": [
        "# Oversampling the first Class (Exited Class) by duplicating the sample in order to have n samples with n = number of Class 0 samples\n",
        "data_class_1_over = data_class_1.sample(count_class_0, replace=True)\n",
        "\n",
        "# concatenate the first and second class datasets\n",
        "data_test_over = pd.concat([data_class_0, data_class_1_over], axis=0)\n",
        "\n",
        "# We can see that the data is no more umbalanced\n",
        "print(data_test_over.Exited.value_counts())"
      ],
      "metadata": {
        "colab": {
          "base_uri": "https://localhost:8080/"
        },
        "outputId": "1d885cbd-e61c-4670-950e-4b6395a4f9b3",
        "id": "ugcZLy7X6izK"
      },
      "execution_count": 30,
      "outputs": [
        {
          "output_type": "stream",
          "name": "stdout",
          "text": [
            "0    7963\n",
            "1    7963\n",
            "Name: Exited, dtype: int64\n"
          ]
        }
      ]
    },
    {
      "cell_type": "code",
      "source": [
        "# split the data into X and Y data\n",
        "X = data_test_over.drop('Exited',axis='columns')\n",
        "Y = data_test_over.Exited"
      ],
      "metadata": {
        "id": "EwTwmsV2P3hc"
      },
      "execution_count": 31,
      "outputs": []
    },
    {
      "cell_type": "markdown",
      "source": [
        "###  Model training"
      ],
      "metadata": {
        "id": "tsYZfzAl6izL"
      }
    },
    {
      "cell_type": "code",
      "source": [
        "# split the data into train and test data\n",
        "x_train, x_test, y_train, y_test = train_test_split(X, Y, test_size=0.2, stratify=Y, shuffle=True, random_state=2)\n",
        "\n",
        "# Instanciate the model\n",
        "model = DecisionTreeClassifier()\n",
        "\n",
        "# train the model\n",
        "model.fit(x_train, y_train)\n",
        "\n",
        "# Evaluate the model\n",
        "y_preds = model.predict(x_test)   \n",
        "print(\"Classification Report: \\n\", classification_report(y_test, y_preds))"
      ],
      "metadata": {
        "id": "GpD4PnTz6izL",
        "colab": {
          "base_uri": "https://localhost:8080/"
        },
        "outputId": "01e49dc0-3638-439b-f072-d81531b3a260"
      },
      "execution_count": 32,
      "outputs": [
        {
          "output_type": "stream",
          "name": "stdout",
          "text": [
            "Classification Report: \n",
            "               precision    recall  f1-score   support\n",
            "\n",
            "           0       0.98      0.85      0.91      1593\n",
            "           1       0.87      0.98      0.92      1593\n",
            "\n",
            "    accuracy                           0.92      3186\n",
            "   macro avg       0.93      0.92      0.92      3186\n",
            "weighted avg       0.93      0.92      0.92      3186\n",
            "\n"
          ]
        }
      ]
    },
    {
      "cell_type": "markdown",
      "source": [
        "## SMOTE"
      ],
      "metadata": {
        "id": "ipqdC_DV6izO"
      }
    },
    {
      "cell_type": "code",
      "source": [
        "# import smote function\n",
        "from imblearn.over_sampling import SMOTE\n",
        "\n",
        "smote = SMOTE(sampling_strategy='minority')\n",
        "\n",
        "X_sm, y_sm = smote.fit_resample(X, Y)\n",
        "\n",
        "y_sm.value_counts()"
      ],
      "metadata": {
        "colab": {
          "base_uri": "https://localhost:8080/"
        },
        "outputId": "a4768e1e-27fe-4a51-ec45-b77201ac547e",
        "id": "q7nnK5UM6izO"
      },
      "execution_count": 33,
      "outputs": [
        {
          "output_type": "execute_result",
          "data": {
            "text/plain": [
              "0    7963\n",
              "1    7963\n",
              "Name: Exited, dtype: int64"
            ]
          },
          "metadata": {},
          "execution_count": 33
        }
      ]
    },
    {
      "cell_type": "code",
      "source": [
        "# split the data into train and test data\n",
        "x_train, x_test, y_train, y_test = train_test_split(X_sm, y_sm, test_size=0.2, random_state=15, stratify=y_sm)\n",
        "\n",
        "# Instanciate the model\n",
        "model = DecisionTreeClassifier()\n",
        "\n",
        "# train the model\n",
        "model.fit(x_train, y_train)\n",
        "\n",
        "# Evaluate the model\n",
        "y_preds = model.predict(x_test)   \n",
        "print(\"Classification Report: \\n\", classification_report(y_test, y_preds))"
      ],
      "metadata": {
        "colab": {
          "base_uri": "https://localhost:8080/"
        },
        "outputId": "9ca885eb-9a08-4e7f-b672-3f68589bff8c",
        "id": "FdsfMZym6izQ"
      },
      "execution_count": 34,
      "outputs": [
        {
          "output_type": "stream",
          "name": "stdout",
          "text": [
            "Classification Report: \n",
            "               precision    recall  f1-score   support\n",
            "\n",
            "           0       0.97      0.86      0.91      1593\n",
            "           1       0.88      0.97      0.92      1593\n",
            "\n",
            "    accuracy                           0.92      3186\n",
            "   macro avg       0.92      0.92      0.92      3186\n",
            "weighted avg       0.92      0.92      0.92      3186\n",
            "\n"
          ]
        }
      ]
    }
  ]
}